{
 "cells": [
  {
   "cell_type": "markdown",
   "metadata": {},
   "source": [
    "# TECHNICAL TEST - Data Engineer Position"
   ]
  },
  {
   "cell_type": "markdown",
   "metadata": {},
   "source": [
    "- Phan Thanh Tín\n",
    "- 0818355716\n",
    "- thanhtin8642@gmail.com"
   ]
  },
  {
   "cell_type": "markdown",
   "metadata": {},
   "source": [
    "## 1. Data Processing "
   ]
  },
  {
   "cell_type": "code",
   "execution_count": 1,
   "metadata": {},
   "outputs": [],
   "source": [
    "import pandas as pd\n",
    "from datetime import datetime\n",
    "from sqlalchemy import create_engine\n",
    "import pyodbc\n",
    "import matplotlib.pyplot as plt\n",
    "import seaborn as sns"
   ]
  },
  {
   "cell_type": "code",
   "execution_count": 2,
   "metadata": {},
   "outputs": [],
   "source": [
    "df = pd.read_csv(\"./Iowa_Liquor_Sales_2017_thru_2023.csv\")"
   ]
  },
  {
   "cell_type": "code",
   "execution_count": 3,
   "metadata": {},
   "outputs": [
    {
     "data": {
      "text/html": [
       "<div>\n",
       "<style scoped>\n",
       "    .dataframe tbody tr th:only-of-type {\n",
       "        vertical-align: middle;\n",
       "    }\n",
       "\n",
       "    .dataframe tbody tr th {\n",
       "        vertical-align: top;\n",
       "    }\n",
       "\n",
       "    .dataframe thead th {\n",
       "        text-align: right;\n",
       "    }\n",
       "</style>\n",
       "<table border=\"1\" class=\"dataframe\">\n",
       "  <thead>\n",
       "    <tr style=\"text-align: right;\">\n",
       "      <th></th>\n",
       "      <th>Date</th>\n",
       "      <th>Store Number</th>\n",
       "      <th>Store Name</th>\n",
       "      <th>City</th>\n",
       "      <th>Category Name</th>\n",
       "      <th>Vendor Number</th>\n",
       "      <th>Vendor Name</th>\n",
       "      <th>Bottles Sold</th>\n",
       "    </tr>\n",
       "  </thead>\n",
       "  <tbody>\n",
       "    <tr>\n",
       "      <th>0</th>\n",
       "      <td>01/03/2017</td>\n",
       "      <td>5230</td>\n",
       "      <td>POINT LIQUOR &amp; TOBACCO</td>\n",
       "      <td>NaN</td>\n",
       "      <td>CANADIAN WHISKIES</td>\n",
       "      <td>260.0</td>\n",
       "      <td>DIAGEO AMERICAS</td>\n",
       "      <td>3</td>\n",
       "    </tr>\n",
       "    <tr>\n",
       "      <th>1</th>\n",
       "      <td>01/03/2017</td>\n",
       "      <td>4482</td>\n",
       "      <td>INDY 66 WEST #929 / INDIANOLA</td>\n",
       "      <td>NaN</td>\n",
       "      <td>AMERICAN VODKAS</td>\n",
       "      <td>434.0</td>\n",
       "      <td>LUXCO INC</td>\n",
       "      <td>6</td>\n",
       "    </tr>\n",
       "    <tr>\n",
       "      <th>2</th>\n",
       "      <td>01/03/2017</td>\n",
       "      <td>5359</td>\n",
       "      <td>FAREWAY STORES # 168/ PEOSTA</td>\n",
       "      <td>PEOSTA</td>\n",
       "      <td>AMERICAN VODKAS</td>\n",
       "      <td>434.0</td>\n",
       "      <td>LUXCO INC</td>\n",
       "      <td>12</td>\n",
       "    </tr>\n",
       "    <tr>\n",
       "      <th>3</th>\n",
       "      <td>01/03/2017</td>\n",
       "      <td>5242</td>\n",
       "      <td>KUM &amp; GO #502 / IOWA CITY</td>\n",
       "      <td>NaN</td>\n",
       "      <td>AMERICAN VODKAS</td>\n",
       "      <td>260.0</td>\n",
       "      <td>DIAGEO AMERICAS</td>\n",
       "      <td>1</td>\n",
       "    </tr>\n",
       "    <tr>\n",
       "      <th>4</th>\n",
       "      <td>01/03/2017</td>\n",
       "      <td>4482</td>\n",
       "      <td>INDY 66 WEST #929 / INDIANOLA</td>\n",
       "      <td>NaN</td>\n",
       "      <td>COCKTAILS/RTD</td>\n",
       "      <td>395.0</td>\n",
       "      <td>PROXIMO</td>\n",
       "      <td>6</td>\n",
       "    </tr>\n",
       "  </tbody>\n",
       "</table>\n",
       "</div>"
      ],
      "text/plain": [
       "         Date  Store Number                     Store Name    City  \\\n",
       "0  01/03/2017          5230         POINT LIQUOR & TOBACCO     NaN   \n",
       "1  01/03/2017          4482  INDY 66 WEST #929 / INDIANOLA     NaN   \n",
       "2  01/03/2017          5359   FAREWAY STORES # 168/ PEOSTA  PEOSTA   \n",
       "3  01/03/2017          5242      KUM & GO #502 / IOWA CITY     NaN   \n",
       "4  01/03/2017          4482  INDY 66 WEST #929 / INDIANOLA     NaN   \n",
       "\n",
       "       Category Name  Vendor Number      Vendor Name  Bottles Sold  \n",
       "0  CANADIAN WHISKIES          260.0  DIAGEO AMERICAS             3  \n",
       "1    AMERICAN VODKAS          434.0        LUXCO INC             6  \n",
       "2    AMERICAN VODKAS          434.0        LUXCO INC            12  \n",
       "3    AMERICAN VODKAS          260.0  DIAGEO AMERICAS             1  \n",
       "4      COCKTAILS/RTD          395.0          PROXIMO             6  "
      ]
     },
     "execution_count": 3,
     "metadata": {},
     "output_type": "execute_result"
    }
   ],
   "source": [
    "df.head()"
   ]
  },
  {
   "cell_type": "code",
   "execution_count": 4,
   "metadata": {},
   "outputs": [
    {
     "name": "stdout",
     "output_type": "stream",
     "text": [
      "<class 'pandas.core.frame.DataFrame'>\n",
      "RangeIndex: 17468378 entries, 0 to 17468377\n",
      "Data columns (total 8 columns):\n",
      " #   Column         Dtype  \n",
      "---  ------         -----  \n",
      " 0   Date           object \n",
      " 1   Store Number   int64  \n",
      " 2   Store Name     object \n",
      " 3   City           object \n",
      " 4   Category Name  object \n",
      " 5   Vendor Number  float64\n",
      " 6   Vendor Name    object \n",
      " 7   Bottles Sold   int64  \n",
      "dtypes: float64(1), int64(2), object(5)\n",
      "memory usage: 1.0+ GB\n"
     ]
    }
   ],
   "source": [
    "df.info()"
   ]
  },
  {
   "cell_type": "code",
   "execution_count": 5,
   "metadata": {},
   "outputs": [
    {
     "name": "stdout",
     "output_type": "stream",
     "text": [
      "Index(['date', 'store_number', 'store_name', 'city', 'category_name',\n",
      "       'vendor_number', 'vendor_name', 'bottles_sold'],\n",
      "      dtype='object')\n"
     ]
    }
   ],
   "source": [
    "# Change all column names to lowercase and replace spaces with underscores\n",
    "df.columns = df.columns.str.lower().str.replace(' ', '_')\n",
    "\n",
    "# Display the updated column names\n",
    "print(df.columns)"
   ]
  },
  {
   "cell_type": "code",
   "execution_count": 6,
   "metadata": {},
   "outputs": [],
   "source": [
    "# Convert date format\n",
    "df['date'] = pd.to_datetime(df['date'], format='%m/%d/%Y')"
   ]
  },
  {
   "cell_type": "markdown",
   "metadata": {},
   "source": [
    "- Bottles Sold is not negative so I check for a valid value"
   ]
  },
  {
   "cell_type": "code",
   "execution_count": 7,
   "metadata": {},
   "outputs": [
    {
     "name": "stdout",
     "output_type": "stream",
     "text": [
      "<class 'pandas.core.frame.DataFrame'>\n",
      "Index: 4761 entries, 13610670 to 17459485\n",
      "Data columns (total 8 columns):\n",
      " #   Column         Non-Null Count  Dtype         \n",
      "---  ------         --------------  -----         \n",
      " 0   date           4761 non-null   datetime64[ns]\n",
      " 1   store_number   4761 non-null   int64         \n",
      " 2   store_name     4761 non-null   object        \n",
      " 3   city           4761 non-null   object        \n",
      " 4   category_name  4761 non-null   object        \n",
      " 5   vendor_number  4761 non-null   float64       \n",
      " 6   vendor_name    4761 non-null   object        \n",
      " 7   bottles_sold   4761 non-null   int64         \n",
      "dtypes: datetime64[ns](1), float64(1), int64(2), object(4)\n",
      "memory usage: 334.8+ KB\n"
     ]
    }
   ],
   "source": [
    "invalid_bottles_sold = df[df['bottles_sold'] < 0]\n",
    "invalid_bottles_sold.info()"
   ]
  },
  {
   "cell_type": "code",
   "execution_count": 8,
   "metadata": {},
   "outputs": [
    {
     "data": {
      "text/plain": [
       "count    1.746838e+07\n",
       "mean     1.139259e+01\n",
       "std      3.315970e+01\n",
       "min     -6.480000e+02\n",
       "25%      3.000000e+00\n",
       "50%      6.000000e+00\n",
       "75%      1.200000e+01\n",
       "max      1.320000e+04\n",
       "Name: bottles_sold, dtype: float64"
      ]
     },
     "execution_count": 8,
     "metadata": {},
     "output_type": "execute_result"
    }
   ],
   "source": [
    "df['bottles_sold'].describe()"
   ]
  },
  {
   "cell_type": "code",
   "execution_count": 9,
   "metadata": {},
   "outputs": [
    {
     "data": {
      "text/plain": [
       "date                 0\n",
       "store_number         0\n",
       "store_name           0\n",
       "city             53231\n",
       "category_name     8751\n",
       "vendor_number        7\n",
       "vendor_name          7\n",
       "bottles_sold         0\n",
       "dtype: int64"
      ]
     },
     "execution_count": 9,
     "metadata": {},
     "output_type": "execute_result"
    }
   ],
   "source": [
    "# Check for missing values\n",
    "df.isnull().sum()\n"
   ]
  },
  {
   "cell_type": "markdown",
   "metadata": {},
   "source": [
    "- Because I don't yet know the business information and requirements on the dataset, I will create a DataFrame to store error records so that I can process them later. Only load valid data into the database after handling errors."
   ]
  },
  {
   "cell_type": "code",
   "execution_count": 10,
   "metadata": {},
   "outputs": [
    {
     "name": "stderr",
     "output_type": "stream",
     "text": [
      "C:\\Users\\thanh\\AppData\\Local\\Temp\\ipykernel_8552\\2382230503.py:7: FutureWarning: The behavior of DataFrame concatenation with empty or all-NA entries is deprecated. In a future version, this will no longer exclude empty or all-NA columns when determining the result dtypes. To retain the old behavior, exclude the relevant entries before the concat operation.\n",
      "  error_log = pd.concat([error_log, missing_values])\n"
     ]
    }
   ],
   "source": [
    "# Create a DataFrame to store error logs\n",
    "error_log = pd.DataFrame(columns=df.columns)\n",
    "\n",
    "\n",
    "missing_values = df[df.isnull().any(axis=1)]\n",
    "if not missing_values.empty:\n",
    "    error_log = pd.concat([error_log, missing_values])\n",
    "    df.dropna(inplace=True)\n",
    "\n",
    "invalid_bottles_sold = df[df['bottles_sold'] < 0]\n",
    "if not invalid_bottles_sold.empty:\n",
    "    error_log = pd.concat([error_log, invalid_bottles_sold])\n",
    "    df = df.drop(invalid_bottles_sold.index)\n",
    "\n",
    "\n",
    "error_log.to_csv('data_errors.csv', index=False)"
   ]
  },
  {
   "cell_type": "code",
   "execution_count": 11,
   "metadata": {},
   "outputs": [
    {
     "name": "stdout",
     "output_type": "stream",
     "text": [
      "<class 'pandas.core.frame.DataFrame'>\n",
      "Index: 66714 entries, 0 to 17459485\n",
      "Data columns (total 8 columns):\n",
      " #   Column         Non-Null Count  Dtype         \n",
      "---  ------         --------------  -----         \n",
      " 0   date           66714 non-null  datetime64[ns]\n",
      " 1   store_number   66714 non-null  object        \n",
      " 2   store_name     66714 non-null  object        \n",
      " 3   city           13483 non-null  object        \n",
      " 4   category_name  57963 non-null  object        \n",
      " 5   vendor_number  66707 non-null  float64       \n",
      " 6   vendor_name    66707 non-null  object        \n",
      " 7   bottles_sold   66714 non-null  object        \n",
      "dtypes: datetime64[ns](1), float64(1), object(6)\n",
      "memory usage: 4.6+ MB\n"
     ]
    }
   ],
   "source": [
    "error_log.info()"
   ]
  },
  {
   "cell_type": "code",
   "execution_count": 12,
   "metadata": {},
   "outputs": [
    {
     "name": "stdout",
     "output_type": "stream",
     "text": [
      "<class 'pandas.core.frame.DataFrame'>\n",
      "Index: 17401664 entries, 2 to 17468377\n",
      "Data columns (total 8 columns):\n",
      " #   Column         Dtype         \n",
      "---  ------         -----         \n",
      " 0   date           datetime64[ns]\n",
      " 1   store_number   int64         \n",
      " 2   store_name     object        \n",
      " 3   city           object        \n",
      " 4   category_name  object        \n",
      " 5   vendor_number  float64       \n",
      " 6   vendor_name    object        \n",
      " 7   bottles_sold   int64         \n",
      "dtypes: datetime64[ns](1), float64(1), int64(2), object(4)\n",
      "memory usage: 1.2+ GB\n"
     ]
    }
   ],
   "source": [
    "# data information after processing\n",
    "df.info()"
   ]
  },
  {
   "cell_type": "markdown",
   "metadata": {},
   "source": [
    "## 2. Transformation"
   ]
  },
  {
   "cell_type": "code",
   "execution_count": 13,
   "metadata": {},
   "outputs": [],
   "source": [
    "# Create store_dim table\n",
    "store_dim = df[['store_number', 'store_name', 'city']].drop_duplicates().reset_index(drop=True)\n",
    "store_dim['store_id'] = store_dim.index + 1\n",
    "store_dim['snapshot_date'] = datetime.now().date()\n",
    "store_dim['last_update'] = datetime.now()"
   ]
  },
  {
   "cell_type": "code",
   "execution_count": 14,
   "metadata": {},
   "outputs": [
    {
     "data": {
      "text/html": [
       "<div>\n",
       "<style scoped>\n",
       "    .dataframe tbody tr th:only-of-type {\n",
       "        vertical-align: middle;\n",
       "    }\n",
       "\n",
       "    .dataframe tbody tr th {\n",
       "        vertical-align: top;\n",
       "    }\n",
       "\n",
       "    .dataframe thead th {\n",
       "        text-align: right;\n",
       "    }\n",
       "</style>\n",
       "<table border=\"1\" class=\"dataframe\">\n",
       "  <thead>\n",
       "    <tr style=\"text-align: right;\">\n",
       "      <th></th>\n",
       "      <th>store_number</th>\n",
       "      <th>store_name</th>\n",
       "      <th>city</th>\n",
       "      <th>store_id</th>\n",
       "      <th>snapshot_date</th>\n",
       "      <th>last_update</th>\n",
       "    </tr>\n",
       "  </thead>\n",
       "  <tbody>\n",
       "    <tr>\n",
       "      <th>0</th>\n",
       "      <td>5359</td>\n",
       "      <td>FAREWAY STORES # 168/ PEOSTA</td>\n",
       "      <td>PEOSTA</td>\n",
       "      <td>1</td>\n",
       "      <td>2024-11-17</td>\n",
       "      <td>2024-11-17 07:45:55.094256</td>\n",
       "    </tr>\n",
       "    <tr>\n",
       "      <th>1</th>\n",
       "      <td>5151</td>\n",
       "      <td>IDA LIQUOR</td>\n",
       "      <td>IDA GROVE</td>\n",
       "      <td>2</td>\n",
       "      <td>2024-11-17</td>\n",
       "      <td>2024-11-17 07:45:55.094256</td>\n",
       "    </tr>\n",
       "    <tr>\n",
       "      <th>2</th>\n",
       "      <td>3868</td>\n",
       "      <td>WAL-MART 3630 / MARION</td>\n",
       "      <td>MARION</td>\n",
       "      <td>3</td>\n",
       "      <td>2024-11-17</td>\n",
       "      <td>2024-11-17 07:45:55.094256</td>\n",
       "    </tr>\n",
       "    <tr>\n",
       "      <th>3</th>\n",
       "      <td>4136</td>\n",
       "      <td>FAREWAY STORES #983 / GRIMES</td>\n",
       "      <td>GRIMES</td>\n",
       "      <td>4</td>\n",
       "      <td>2024-11-17</td>\n",
       "      <td>2024-11-17 07:45:55.094256</td>\n",
       "    </tr>\n",
       "    <tr>\n",
       "      <th>4</th>\n",
       "      <td>4334</td>\n",
       "      <td>FAREWAY STORES #114 / DUBUQUE</td>\n",
       "      <td>DUBUQUE</td>\n",
       "      <td>5</td>\n",
       "      <td>2024-11-17</td>\n",
       "      <td>2024-11-17 07:45:55.094256</td>\n",
       "    </tr>\n",
       "  </tbody>\n",
       "</table>\n",
       "</div>"
      ],
      "text/plain": [
       "   store_number                     store_name       city  store_id  \\\n",
       "0          5359   FAREWAY STORES # 168/ PEOSTA     PEOSTA         1   \n",
       "1          5151                     IDA LIQUOR  IDA GROVE         2   \n",
       "2          3868         WAL-MART 3630 / MARION     MARION         3   \n",
       "3          4136   FAREWAY STORES #983 / GRIMES     GRIMES         4   \n",
       "4          4334  FAREWAY STORES #114 / DUBUQUE    DUBUQUE         5   \n",
       "\n",
       "  snapshot_date                last_update  \n",
       "0    2024-11-17 2024-11-17 07:45:55.094256  \n",
       "1    2024-11-17 2024-11-17 07:45:55.094256  \n",
       "2    2024-11-17 2024-11-17 07:45:55.094256  \n",
       "3    2024-11-17 2024-11-17 07:45:55.094256  \n",
       "4    2024-11-17 2024-11-17 07:45:55.094256  "
      ]
     },
     "execution_count": 14,
     "metadata": {},
     "output_type": "execute_result"
    }
   ],
   "source": [
    "store_dim.head()"
   ]
  },
  {
   "cell_type": "code",
   "execution_count": 15,
   "metadata": {},
   "outputs": [],
   "source": [
    "# Create category_dim table\n",
    "category_dim = df[['category_name']].drop_duplicates().reset_index(drop=True)\n",
    "category_dim['category_id'] = category_dim.index + 1\n",
    "category_dim['snapshot_date'] = datetime.now().date()\n",
    "category_dim['last_update'] = datetime.now()"
   ]
  },
  {
   "cell_type": "code",
   "execution_count": 16,
   "metadata": {},
   "outputs": [],
   "source": [
    "# Create vendor_dim table\n",
    "vendor_dim = df[['vendor_number', 'vendor_name']].drop_duplicates().reset_index(drop=True)\n",
    "vendor_dim['vendor_id'] = vendor_dim.index + 1\n",
    "vendor_dim['snapshot_date'] = datetime.now().date()\n",
    "vendor_dim['last_update'] = datetime.now()"
   ]
  },
  {
   "cell_type": "code",
   "execution_count": 17,
   "metadata": {},
   "outputs": [],
   "source": [
    "# Create date_dim table\n",
    "date_dim = df[['date']].drop_duplicates().reset_index(drop=True)\n",
    "date_dim['date_id'] = date_dim.index + 1\n",
    "date_dim['day'] = date_dim['date'].dt.day\n",
    "date_dim['month'] = date_dim['date'].dt.month\n",
    "date_dim['year'] = date_dim['date'].dt.year\n",
    "date_dim['quarter'] = date_dim['date'].dt.quarter\n",
    "date_dim['day_of_week'] = date_dim['date'].dt.dayofweek"
   ]
  },
  {
   "cell_type": "code",
   "execution_count": 18,
   "metadata": {},
   "outputs": [],
   "source": [
    "# Create sales_fact table\n",
    "sales_fact = df.merge(date_dim, on='date') \\\n",
    "               .merge(store_dim, on=['store_number', 'store_name', 'city']) \\\n",
    "               .merge(category_dim, on='category_name') \\\n",
    "               .merge(vendor_dim, on=['vendor_number', 'vendor_name'])\n",
    "sales_fact['sales_id'] = sales_fact.index + 1\n",
    "sales_fact = sales_fact[['sales_id', 'date_id', 'store_id', 'category_id', 'vendor_id', 'bottles_sold']]"
   ]
  },
  {
   "cell_type": "code",
   "execution_count": 19,
   "metadata": {},
   "outputs": [
    {
     "data": {
      "text/html": [
       "<div>\n",
       "<style scoped>\n",
       "    .dataframe tbody tr th:only-of-type {\n",
       "        vertical-align: middle;\n",
       "    }\n",
       "\n",
       "    .dataframe tbody tr th {\n",
       "        vertical-align: top;\n",
       "    }\n",
       "\n",
       "    .dataframe thead th {\n",
       "        text-align: right;\n",
       "    }\n",
       "</style>\n",
       "<table border=\"1\" class=\"dataframe\">\n",
       "  <thead>\n",
       "    <tr style=\"text-align: right;\">\n",
       "      <th></th>\n",
       "      <th>sales_id</th>\n",
       "      <th>date_id</th>\n",
       "      <th>store_id</th>\n",
       "      <th>category_id</th>\n",
       "      <th>vendor_id</th>\n",
       "      <th>bottles_sold</th>\n",
       "    </tr>\n",
       "  </thead>\n",
       "  <tbody>\n",
       "    <tr>\n",
       "      <th>0</th>\n",
       "      <td>1</td>\n",
       "      <td>1</td>\n",
       "      <td>1</td>\n",
       "      <td>1</td>\n",
       "      <td>1</td>\n",
       "      <td>12</td>\n",
       "    </tr>\n",
       "    <tr>\n",
       "      <th>1</th>\n",
       "      <td>2</td>\n",
       "      <td>1</td>\n",
       "      <td>2</td>\n",
       "      <td>2</td>\n",
       "      <td>2</td>\n",
       "      <td>12</td>\n",
       "    </tr>\n",
       "    <tr>\n",
       "      <th>2</th>\n",
       "      <td>3</td>\n",
       "      <td>1</td>\n",
       "      <td>1</td>\n",
       "      <td>3</td>\n",
       "      <td>3</td>\n",
       "      <td>5</td>\n",
       "    </tr>\n",
       "    <tr>\n",
       "      <th>3</th>\n",
       "      <td>4</td>\n",
       "      <td>1</td>\n",
       "      <td>3</td>\n",
       "      <td>4</td>\n",
       "      <td>4</td>\n",
       "      <td>12</td>\n",
       "    </tr>\n",
       "    <tr>\n",
       "      <th>4</th>\n",
       "      <td>5</td>\n",
       "      <td>1</td>\n",
       "      <td>4</td>\n",
       "      <td>5</td>\n",
       "      <td>5</td>\n",
       "      <td>1</td>\n",
       "    </tr>\n",
       "  </tbody>\n",
       "</table>\n",
       "</div>"
      ],
      "text/plain": [
       "   sales_id  date_id  store_id  category_id  vendor_id  bottles_sold\n",
       "0         1        1         1            1          1            12\n",
       "1         2        1         2            2          2            12\n",
       "2         3        1         1            3          3             5\n",
       "3         4        1         3            4          4            12\n",
       "4         5        1         4            5          5             1"
      ]
     },
     "execution_count": 19,
     "metadata": {},
     "output_type": "execute_result"
    }
   ],
   "source": [
    "sales_fact.head()"
   ]
  },
  {
   "cell_type": "markdown",
   "metadata": {},
   "source": [
    " ## 3. Load into the data warehouse (SQL Server)"
   ]
  },
  {
   "cell_type": "code",
   "execution_count": 2,
   "metadata": {},
   "outputs": [
    {
     "name": "stdout",
     "output_type": "stream",
     "text": [
      "Connection successful!\n"
     ]
    }
   ],
   "source": [
    "# Connection information\n",
    "username = 'sa'\n",
    "password = 'thanhtin'\n",
    "server = 'THANHTIN\\THANHTIN'\n",
    "database = 'Sales'\n",
    "driver = 'SQL Server Native Client 11.0'\n",
    "\n",
    "\n",
    "connection_string = f'mssql+pyodbc://{username}:{password}@{server}/{database}?driver={driver}'\n",
    "\n",
    "\n",
    "engine = create_engine(connection_string)\n",
    "\n",
    "# Check the connection\n",
    "try:\n",
    "    with engine.connect() as connection:\n",
    "        print(\"Connection successful!\")\n",
    "except Exception as e:\n",
    "    print(f\"Fail: {e}\")"
   ]
  },
  {
   "cell_type": "markdown",
   "metadata": {},
   "source": [
    "- Load data into SQL Server"
   ]
  },
  {
   "cell_type": "code",
   "execution_count": null,
   "metadata": {},
   "outputs": [],
   "source": [
    "#Load Dim Table\n",
    "store_dim.to_sql('store_dim', engine, if_exists='append', index=False)\n",
    "category_dim.to_sql('category_dim', engine, if_exists='append', index=False)\n",
    "vendor_dim.to_sql('vendor_dim', engine, if_exists='append', index=False)\n",
    "date_dim.to_sql('date_dim', engine, if_exists='append', index=False)"
   ]
  },
  {
   "cell_type": "code",
   "execution_count": 55,
   "metadata": {},
   "outputs": [
    {
     "data": {
      "text/plain": [
       "175"
      ]
     },
     "execution_count": 55,
     "metadata": {},
     "output_type": "execute_result"
    }
   ],
   "source": [
    "#Load Fact Table\n",
    "\n",
    "sales_fact.to_sql('sales_fact', engine, if_exists='append', index=False)"
   ]
  },
  {
   "cell_type": "markdown",
   "metadata": {},
   "source": [
    "##  3. Answer the questions"
   ]
  },
  {
   "cell_type": "markdown",
   "metadata": {},
   "source": [
    "#### Total Bottles Sold per Year: Calculate the total number of bottles sold each year from 2017 to 2023."
   ]
  },
  {
   "cell_type": "code",
   "execution_count": 3,
   "metadata": {},
   "outputs": [
    {
     "data": {
      "text/html": [
       "<div>\n",
       "<style scoped>\n",
       "    .dataframe tbody tr th:only-of-type {\n",
       "        vertical-align: middle;\n",
       "    }\n",
       "\n",
       "    .dataframe tbody tr th {\n",
       "        vertical-align: top;\n",
       "    }\n",
       "\n",
       "    .dataframe thead th {\n",
       "        text-align: right;\n",
       "    }\n",
       "</style>\n",
       "<table border=\"1\" class=\"dataframe\">\n",
       "  <thead>\n",
       "    <tr style=\"text-align: right;\">\n",
       "      <th></th>\n",
       "      <th>year</th>\n",
       "      <th>Total_Bottles_Sold</th>\n",
       "    </tr>\n",
       "  </thead>\n",
       "  <tbody>\n",
       "    <tr>\n",
       "      <th>0</th>\n",
       "      <td>2017</td>\n",
       "      <td>23490079</td>\n",
       "    </tr>\n",
       "    <tr>\n",
       "      <th>1</th>\n",
       "      <td>2018</td>\n",
       "      <td>25382948</td>\n",
       "    </tr>\n",
       "    <tr>\n",
       "      <th>2</th>\n",
       "      <td>2019</td>\n",
       "      <td>26776759</td>\n",
       "    </tr>\n",
       "    <tr>\n",
       "      <th>3</th>\n",
       "      <td>2020</td>\n",
       "      <td>29830600</td>\n",
       "    </tr>\n",
       "    <tr>\n",
       "      <th>4</th>\n",
       "      <td>2021</td>\n",
       "      <td>31201269</td>\n",
       "    </tr>\n",
       "    <tr>\n",
       "      <th>5</th>\n",
       "      <td>2022</td>\n",
       "      <td>30422679</td>\n",
       "    </tr>\n",
       "    <tr>\n",
       "      <th>6</th>\n",
       "      <td>2023</td>\n",
       "      <td>31295210</td>\n",
       "    </tr>\n",
       "  </tbody>\n",
       "</table>\n",
       "</div>"
      ],
      "text/plain": [
       "   year  Total_Bottles_Sold\n",
       "0  2017            23490079\n",
       "1  2018            25382948\n",
       "2  2019            26776759\n",
       "3  2020            29830600\n",
       "4  2021            31201269\n",
       "5  2022            30422679\n",
       "6  2023            31295210"
      ]
     },
     "execution_count": 3,
     "metadata": {},
     "output_type": "execute_result"
    }
   ],
   "source": [
    "total_bottles_sold_query = \"\"\"\n",
    "SELECT \n",
    "    date_dim.year, \n",
    "    SUM(Bottles_Sold) AS Total_Bottles_Sold\n",
    "FROM \n",
    "    sales_fact\n",
    "JOIN \n",
    "    date_dim ON sales_fact.date_id = date_dim.date_id\n",
    "GROUP BY \n",
    "    date_dim.year\n",
    "ORDER BY \n",
    "    date_dim.year;\n",
    "\"\"\"\n",
    "\n",
    "# Execute the query and save the results to a DataFrame\n",
    "total_bottles_sold = pd.read_sql(total_bottles_sold_query, engine)\n",
    "total_bottles_sold\n"
   ]
  },
  {
   "cell_type": "code",
   "execution_count": 4,
   "metadata": {},
   "outputs": [
    {
     "name": "stderr",
     "output_type": "stream",
     "text": [
      "C:\\Users\\thanh\\AppData\\Local\\Temp\\ipykernel_25212\\596645628.py:3: FutureWarning: \n",
      "\n",
      "Passing `palette` without assigning `hue` is deprecated and will be removed in v0.14.0. Assign the `x` variable to `hue` and set `legend=False` for the same effect.\n",
      "\n",
      "  sns.barplot(x='year', y='Total_Bottles_Sold', data=total_bottles_sold, palette='viridis')\n"
     ]
    },
    {
     "data": {
      "image/png": "[encoded data removed]",
      "text/plain": [
       "<Figure size 1000x600 with 1 Axes>"
      ]
     },
     "metadata": {},
     "output_type": "display_data"
    }
   ],
   "source": [
    "# Draw an illustrative diagram\n",
    "plt.figure(figsize=(10, 6))\n",
    "sns.barplot(x='year', y='Total_Bottles_Sold', data=total_bottles_sold, palette='viridis')\n",
    "plt.title('Total number of bottles sold by year (2017-2023)')\n",
    "plt.xlabel('Year')\n",
    "plt.ylabel('Total Sales')\n",
    "plt.xticks(rotation=45)\n",
    "plt.grid(axis='y')\n",
    "plt.tight_layout()\n",
    "plt.show()"
   ]
  },
  {
   "cell_type": "markdown",
   "metadata": {},
   "source": [
    "#### Top 3 Vendors per City: Identify the top three vendors (Vendor Name) with the highest sales (by bottle count) in each city."
   ]
  },
  {
   "cell_type": "markdown",
   "metadata": {},
   "source": [
    "- Query by most recent record, i.e. latest snapshot_date"
   ]
  },
  {
   "cell_type": "code",
   "execution_count": 5,
   "metadata": {},
   "outputs": [],
   "source": [
    "top_vendors_query = \"\"\"\n",
    "WITH VendorSales AS (\n",
    "    SELECT \n",
    "        vendor_dim.vendor_name, \n",
    "        store_dim.city, \n",
    "        SUM(sales_fact.bottles_sold) AS Total_Bottles_Sold\n",
    "    FROM \n",
    "        sales_fact\n",
    "    JOIN \n",
    "        vendor_dim ON sales_fact.vendor_id = vendor_dim.vendor_id\n",
    "    JOIN \n",
    "        store_dim ON sales_fact.store_id = store_dim.store_id\n",
    "\tWHERE \n",
    "        vendor_dim.snapshot_date IN (SELECT MAX(snapshot_date) FROM vendor_dim)\n",
    "    GROUP BY \n",
    "        vendor_dim.vendor_name, store_dim.city\n",
    "),\n",
    "RankedVendors AS (\n",
    "    SELECT \n",
    "        vendor_name, \n",
    "        city, \n",
    "        Total_Bottles_Sold,\n",
    "        ROW_NUMBER() OVER (PARTITION BY city ORDER BY Total_Bottles_Sold DESC) AS Rank\n",
    "    FROM \n",
    "        VendorSales\n",
    ")\n",
    "SELECT \n",
    "    vendor_name, \n",
    "    city, \n",
    "    Total_Bottles_Sold\n",
    "FROM \n",
    "    RankedVendors\n",
    "WHERE \n",
    "    Rank <= 3;\n",
    "\n",
    "\"\"\"\n",
    "\n",
    "top_vendors = pd.read_sql(top_vendors_query, engine)\n",
    "\n"
   ]
  },
  {
   "cell_type": "code",
   "execution_count": 6,
   "metadata": {},
   "outputs": [
    {
     "data": {
      "text/html": [
       "<div>\n",
       "<style scoped>\n",
       "    .dataframe tbody tr th:only-of-type {\n",
       "        vertical-align: middle;\n",
       "    }\n",
       "\n",
       "    .dataframe tbody tr th {\n",
       "        vertical-align: top;\n",
       "    }\n",
       "\n",
       "    .dataframe thead th {\n",
       "        text-align: right;\n",
       "    }\n",
       "</style>\n",
       "<table border=\"1\" class=\"dataframe\">\n",
       "  <thead>\n",
       "    <tr style=\"text-align: right;\">\n",
       "      <th></th>\n",
       "      <th>vendor_name</th>\n",
       "      <th>city</th>\n",
       "      <th>Total_Bottles_Sold</th>\n",
       "    </tr>\n",
       "  </thead>\n",
       "  <tbody>\n",
       "    <tr>\n",
       "      <th>0</th>\n",
       "      <td>LUXCO INC</td>\n",
       "      <td>FORT ATKINSON</td>\n",
       "      <td>12388</td>\n",
       "    </tr>\n",
       "    <tr>\n",
       "      <th>1</th>\n",
       "      <td>DIAGEO AMERICAS</td>\n",
       "      <td>FORT ATKINSON</td>\n",
       "      <td>9612</td>\n",
       "    </tr>\n",
       "    <tr>\n",
       "      <th>2</th>\n",
       "      <td>LAIRD &amp; COMPANY</td>\n",
       "      <td>FORT ATKINSON</td>\n",
       "      <td>6834</td>\n",
       "    </tr>\n",
       "    <tr>\n",
       "      <th>3</th>\n",
       "      <td>SAZERAC COMPANY  INC</td>\n",
       "      <td>FORT DODGE</td>\n",
       "      <td>666922</td>\n",
       "    </tr>\n",
       "    <tr>\n",
       "      <th>4</th>\n",
       "      <td>DIAGEO AMERICAS</td>\n",
       "      <td>FORT DODGE</td>\n",
       "      <td>664182</td>\n",
       "    </tr>\n",
       "    <tr>\n",
       "      <th>...</th>\n",
       "      <td>...</td>\n",
       "      <td>...</td>\n",
       "      <td>...</td>\n",
       "    </tr>\n",
       "    <tr>\n",
       "      <th>1415</th>\n",
       "      <td>MCCORMICK DISTILLING CO.</td>\n",
       "      <td>DANVILLE</td>\n",
       "      <td>8056</td>\n",
       "    </tr>\n",
       "    <tr>\n",
       "      <th>1416</th>\n",
       "      <td>DIAGEO AMERICAS</td>\n",
       "      <td>DANVILLE</td>\n",
       "      <td>4904</td>\n",
       "    </tr>\n",
       "    <tr>\n",
       "      <th>1417</th>\n",
       "      <td>SAZERAC COMPANY  INC</td>\n",
       "      <td>DAVENPORT</td>\n",
       "      <td>4603456</td>\n",
       "    </tr>\n",
       "    <tr>\n",
       "      <th>1418</th>\n",
       "      <td>DIAGEO AMERICAS</td>\n",
       "      <td>DAVENPORT</td>\n",
       "      <td>2575766</td>\n",
       "    </tr>\n",
       "    <tr>\n",
       "      <th>1419</th>\n",
       "      <td>MCCORMICK DISTILLING CO.</td>\n",
       "      <td>DAVENPORT</td>\n",
       "      <td>2056382</td>\n",
       "    </tr>\n",
       "  </tbody>\n",
       "</table>\n",
       "<p>1420 rows × 3 columns</p>\n",
       "</div>"
      ],
      "text/plain": [
       "                   vendor_name           city  Total_Bottles_Sold\n",
       "0                    LUXCO INC  FORT ATKINSON               12388\n",
       "1              DIAGEO AMERICAS  FORT ATKINSON                9612\n",
       "2              LAIRD & COMPANY  FORT ATKINSON                6834\n",
       "3         SAZERAC COMPANY  INC     FORT DODGE              666922\n",
       "4              DIAGEO AMERICAS     FORT DODGE              664182\n",
       "...                        ...            ...                 ...\n",
       "1415  MCCORMICK DISTILLING CO.       DANVILLE                8056\n",
       "1416           DIAGEO AMERICAS       DANVILLE                4904\n",
       "1417      SAZERAC COMPANY  INC      DAVENPORT             4603456\n",
       "1418           DIAGEO AMERICAS      DAVENPORT             2575766\n",
       "1419  MCCORMICK DISTILLING CO.      DAVENPORT             2056382\n",
       "\n",
       "[1420 rows x 3 columns]"
      ]
     },
     "execution_count": 6,
     "metadata": {},
     "output_type": "execute_result"
    }
   ],
   "source": [
    "top_vendors"
   ]
  },
  {
   "cell_type": "code",
   "execution_count": 7,
   "metadata": {},
   "outputs": [
    {
     "data": {
      "image/png": "[encoded data removed]",
      "text/plain": [
       "<Figure size 1200x800 with 1 Axes>"
      ]
     },
     "metadata": {},
     "output_type": "display_data"
    }
   ],
   "source": [
    "# Draw an illustrative chart with the top 3 vendors in WASHINGTON\n",
    "top_vendors_filtered = top_vendors[top_vendors['city'].isin(['WASHINGTON'])]\n",
    "\n",
    "plt.figure(figsize=(12, 8))\n",
    "sns.barplot(x='Total_Bottles_Sold', y='vendor_name', hue='city', data=top_vendors_filtered, palette='viridis')\n",
    "plt.title('top 3 vendors in WASHINGTON')\n",
    "plt.xlabel('Total Sales')\n",
    "plt.ylabel('Vendor')\n",
    "plt.legend(title='City')\n",
    "plt.grid(axis='x')\n",
    "plt.tight_layout()\n",
    "plt.show()"
   ]
  },
  {
   "cell_type": "markdown",
   "metadata": {},
   "source": [
    "#### Sales Analysis by Category: Analyze the sales trends for the top-selling wine categories (Category Name) year by year."
   ]
  },
  {
   "cell_type": "code",
   "execution_count": 8,
   "metadata": {},
   "outputs": [
    {
     "data": {
      "text/html": [
       "<div>\n",
       "<style scoped>\n",
       "    .dataframe tbody tr th:only-of-type {\n",
       "        vertical-align: middle;\n",
       "    }\n",
       "\n",
       "    .dataframe tbody tr th {\n",
       "        vertical-align: top;\n",
       "    }\n",
       "\n",
       "    .dataframe thead th {\n",
       "        text-align: right;\n",
       "    }\n",
       "</style>\n",
       "<table border=\"1\" class=\"dataframe\">\n",
       "  <thead>\n",
       "    <tr style=\"text-align: right;\">\n",
       "      <th></th>\n",
       "      <th>Year</th>\n",
       "      <th>category_name</th>\n",
       "      <th>Total_Bottles_Sold</th>\n",
       "    </tr>\n",
       "  </thead>\n",
       "  <tbody>\n",
       "    <tr>\n",
       "      <th>0</th>\n",
       "      <td>2017</td>\n",
       "      <td>AMERICAN VODKAS</td>\n",
       "      <td>5017801</td>\n",
       "    </tr>\n",
       "    <tr>\n",
       "      <th>1</th>\n",
       "      <td>2018</td>\n",
       "      <td>AMERICAN VODKAS</td>\n",
       "      <td>5392367</td>\n",
       "    </tr>\n",
       "    <tr>\n",
       "      <th>2</th>\n",
       "      <td>2019</td>\n",
       "      <td>AMERICAN VODKAS</td>\n",
       "      <td>5643365</td>\n",
       "    </tr>\n",
       "    <tr>\n",
       "      <th>3</th>\n",
       "      <td>2020</td>\n",
       "      <td>AMERICAN VODKAS</td>\n",
       "      <td>5937556</td>\n",
       "    </tr>\n",
       "    <tr>\n",
       "      <th>4</th>\n",
       "      <td>2021</td>\n",
       "      <td>AMERICAN VODKAS</td>\n",
       "      <td>6113254</td>\n",
       "    </tr>\n",
       "  </tbody>\n",
       "</table>\n",
       "</div>"
      ],
      "text/plain": [
       "   Year    category_name  Total_Bottles_Sold\n",
       "0  2017  AMERICAN VODKAS             5017801\n",
       "1  2018  AMERICAN VODKAS             5392367\n",
       "2  2019  AMERICAN VODKAS             5643365\n",
       "3  2020  AMERICAN VODKAS             5937556\n",
       "4  2021  AMERICAN VODKAS             6113254"
      ]
     },
     "execution_count": 8,
     "metadata": {},
     "output_type": "execute_result"
    }
   ],
   "source": [
    "sales_analysis_query = \"\"\"\n",
    "WITH RankedData AS (\n",
    "    SELECT \n",
    "        date_dim.year as Year, \n",
    "        category_dim.category_name, \n",
    "        SUM(sales_fact.bottles_sold) AS Total_Bottles_Sold,\n",
    "        ROW_NUMBER() OVER (PARTITION BY date_dim.year ORDER BY SUM(sales_fact.bottles_sold) DESC) AS Rank\n",
    "    FROM \n",
    "        sales_fact\n",
    "    JOIN \n",
    "        date_dim ON sales_fact.date_id = date_dim.date_id\n",
    "    JOIN \n",
    "        category_dim ON sales_fact.category_id = category_dim.category_id\n",
    "\tWHERE \n",
    "        category_dim.snapshot_date IN (SELECT MAX(snapshot_date) FROM category_dim)\n",
    "    GROUP BY \n",
    "        date_dim.year, category_dim.category_name\n",
    ")\n",
    "SELECT \n",
    "    Year, \n",
    "    category_name, \n",
    "    Total_Bottles_Sold\n",
    "FROM \n",
    "    RankedData\n",
    "WHERE \n",
    "    Rank = 1;\n",
    "\"\"\"\n",
    "\n",
    "sales_analysis = pd.read_sql(sales_analysis_query, engine)\n",
    "\n",
    "sales_analysis.head()"
   ]
  },
  {
   "cell_type": "code",
   "execution_count": 9,
   "metadata": {},
   "outputs": [
    {
     "data": {
      "image/png": "[encoded data removed]",
      "text/plain": [
       "<Figure size 1200x600 with 1 Axes>"
      ]
     },
     "metadata": {},
     "output_type": "display_data"
    }
   ],
   "source": [
    "\n",
    "plt.figure(figsize=(12, 6))\n",
    "sns.barplot(x='Year', y='Total_Bottles_Sold', hue='category_name', data=sales_analysis, palette='viridis')\n",
    "plt.title('Best Selling Categories By Year')\n",
    "plt.xlabel('Year')\n",
    "plt.ylabel('Total Sales')\n",
    "plt.legend(title='Category')\n",
    "plt.grid(axis='y')\n",
    "plt.tight_layout()\n",
    "plt.show()"
   ]
  },
  {
   "cell_type": "markdown",
   "metadata": {},
   "source": [
    "#### Top Stores by Sales per City: Identify the stores (Store Name) with the highest wine sales in each city in the most recent year (2023).\n"
   ]
  },
  {
   "cell_type": "code",
   "execution_count": 13,
   "metadata": {},
   "outputs": [
    {
     "data": {
      "text/html": [
       "<div>\n",
       "<style scoped>\n",
       "    .dataframe tbody tr th:only-of-type {\n",
       "        vertical-align: middle;\n",
       "    }\n",
       "\n",
       "    .dataframe tbody tr th {\n",
       "        vertical-align: top;\n",
       "    }\n",
       "\n",
       "    .dataframe thead th {\n",
       "        text-align: right;\n",
       "    }\n",
       "</style>\n",
       "<table border=\"1\" class=\"dataframe\">\n",
       "  <thead>\n",
       "    <tr style=\"text-align: right;\">\n",
       "      <th></th>\n",
       "      <th>store_name</th>\n",
       "      <th>city</th>\n",
       "      <th>Total_Bottles_Sold</th>\n",
       "    </tr>\n",
       "  </thead>\n",
       "  <tbody>\n",
       "    <tr>\n",
       "      <th>0</th>\n",
       "      <td>CASEY'S GENERAL STORE #1921- ACKLEY</td>\n",
       "      <td>ACKLEY</td>\n",
       "      <td>7405</td>\n",
       "    </tr>\n",
       "    <tr>\n",
       "      <th>1</th>\n",
       "      <td>CASEY'S GENERAL STORE #2521 / ADAIR</td>\n",
       "      <td>ADAIR</td>\n",
       "      <td>4255</td>\n",
       "    </tr>\n",
       "    <tr>\n",
       "      <th>2</th>\n",
       "      <td>FAREWAY STORES #124 / ADEL</td>\n",
       "      <td>ADEL</td>\n",
       "      <td>21701</td>\n",
       "    </tr>\n",
       "    <tr>\n",
       "      <th>3</th>\n",
       "      <td>CASEY'S GENERAL STORE #2626 / AFTON</td>\n",
       "      <td>AFTON</td>\n",
       "      <td>7389</td>\n",
       "    </tr>\n",
       "    <tr>\n",
       "      <th>4</th>\n",
       "      <td>AINSWORTH FOUR CORNERS / AINSWORTH</td>\n",
       "      <td>AINSWORTH</td>\n",
       "      <td>4414</td>\n",
       "    </tr>\n",
       "  </tbody>\n",
       "</table>\n",
       "</div>"
      ],
      "text/plain": [
       "                            store_name       city  Total_Bottles_Sold\n",
       "0  CASEY'S GENERAL STORE #1921- ACKLEY     ACKLEY                7405\n",
       "1  CASEY'S GENERAL STORE #2521 / ADAIR      ADAIR                4255\n",
       "2           FAREWAY STORES #124 / ADEL       ADEL               21701\n",
       "3  CASEY'S GENERAL STORE #2626 / AFTON      AFTON                7389\n",
       "4   AINSWORTH FOUR CORNERS / AINSWORTH  AINSWORTH                4414"
      ]
     },
     "execution_count": 13,
     "metadata": {},
     "output_type": "execute_result"
    }
   ],
   "source": [
    "top_stores_query = \"\"\"\n",
    "WITH RankedStores AS (\n",
    "    SELECT \n",
    "        st.store_name, \n",
    "        st.city, \n",
    "        SUM(s.bottles_sold) AS Total_Bottles_Sold,\n",
    "        ROW_NUMBER() OVER (\n",
    "            PARTITION BY st.city \n",
    "            ORDER BY SUM(s.bottles_sold) DESC\n",
    "        ) AS Rank\n",
    "    FROM \n",
    "        sales_fact s\n",
    "    JOIN \n",
    "        store_dim st ON s.store_id = st.store_id\n",
    "    JOIN \n",
    "        date_dim d ON s.date_id = d.date_id\n",
    "    WHERE \n",
    "        YEAR(d.date) = 2023 AND \n",
    "        st.snapshot_date IN (SELECT MAX(snapshot_date) FROM store_dim)\n",
    "    GROUP BY \n",
    "        st.store_name, st.city\n",
    ")\n",
    "SELECT \n",
    "    store_name, \n",
    "    city, \n",
    "    Total_Bottles_Sold\n",
    "FROM \n",
    "    RankedStores\n",
    "WHERE \n",
    "    Rank = 1;\n",
    "\"\"\"\n",
    "\n",
    "top_stores = pd.read_sql(top_stores_query, engine)\n",
    "\n",
    "top_stores.head()"
   ]
  },
  {
   "cell_type": "code",
   "execution_count": 14,
   "metadata": {},
   "outputs": [
    {
     "data": {
      "image/png": "[encoded data removed]",
      "text/plain": [
       "<Figure size 1200x800 with 1 Axes>"
      ]
     },
     "metadata": {},
     "output_type": "display_data"
    }
   ],
   "source": [
    "# Illustrative chart of best-selling products in 5 cities\n",
    "selected_cities = ['ANTHON', 'APLINGTON', 'WASHINGTON', 'DES MOINES', 'CEDAR RAPIDS']\n",
    "top_stores_filtered = top_stores[top_stores['city'].isin(selected_cities)]\n",
    "\n",
    "\n",
    "plt.figure(figsize=(12, 8))\n",
    "sns.barplot(x='Total_Bottles_Sold', y='store_name', hue='city', data=top_stores_filtered, palette='viridis')\n",
    "plt.title('Top Stores by Sales in 5 Cities (2023)')\n",
    "plt.xlabel('Total Sales')\n",
    "plt.ylabel('Store Name')\n",
    "plt.legend(title='City')\n",
    "plt.grid(axis='x')\n",
    "plt.tight_layout()\n",
    "plt.show()"
   ]
  },
  {
   "cell_type": "markdown",
   "metadata": {},
   "source": [
    "#### Vendor Sales Share: Calculate the percentage of total sales for each vendor (Vendor Name) compared to the overall sales of all vendors across the entire time period (2017-2023)."
   ]
  },
  {
   "cell_type": "code",
   "execution_count": 15,
   "metadata": {},
   "outputs": [
    {
     "data": {
      "text/html": [
       "<div>\n",
       "<style scoped>\n",
       "    .dataframe tbody tr th:only-of-type {\n",
       "        vertical-align: middle;\n",
       "    }\n",
       "\n",
       "    .dataframe tbody tr th {\n",
       "        vertical-align: top;\n",
       "    }\n",
       "\n",
       "    .dataframe thead th {\n",
       "        text-align: right;\n",
       "    }\n",
       "</style>\n",
       "<table border=\"1\" class=\"dataframe\">\n",
       "  <thead>\n",
       "    <tr style=\"text-align: right;\">\n",
       "      <th></th>\n",
       "      <th>vendor_name</th>\n",
       "      <th>Vendor_Total_Bottles_Sold</th>\n",
       "      <th>Sales_Share_Percentage</th>\n",
       "    </tr>\n",
       "  </thead>\n",
       "  <tbody>\n",
       "    <tr>\n",
       "      <th>0</th>\n",
       "      <td>SAZERAC COMPANY  INC</td>\n",
       "      <td>37163488</td>\n",
       "      <td>18.731640</td>\n",
       "    </tr>\n",
       "    <tr>\n",
       "      <th>1</th>\n",
       "      <td>DIAGEO AMERICAS</td>\n",
       "      <td>28535115</td>\n",
       "      <td>14.382652</td>\n",
       "    </tr>\n",
       "    <tr>\n",
       "      <th>2</th>\n",
       "      <td>LUXCO INC</td>\n",
       "      <td>14555520</td>\n",
       "      <td>7.336468</td>\n",
       "    </tr>\n",
       "    <tr>\n",
       "      <th>3</th>\n",
       "      <td>JIM BEAM BRANDS</td>\n",
       "      <td>13237984</td>\n",
       "      <td>6.672386</td>\n",
       "    </tr>\n",
       "    <tr>\n",
       "      <th>4</th>\n",
       "      <td>HEAVEN HILL BRANDS</td>\n",
       "      <td>11999663</td>\n",
       "      <td>6.048231</td>\n",
       "    </tr>\n",
       "  </tbody>\n",
       "</table>\n",
       "</div>"
      ],
      "text/plain": [
       "            vendor_name  Vendor_Total_Bottles_Sold  Sales_Share_Percentage\n",
       "0  SAZERAC COMPANY  INC                   37163488               18.731640\n",
       "1       DIAGEO AMERICAS                   28535115               14.382652\n",
       "2             LUXCO INC                   14555520                7.336468\n",
       "3       JIM BEAM BRANDS                   13237984                6.672386\n",
       "4    HEAVEN HILL BRANDS                   11999663                6.048231"
      ]
     },
     "execution_count": 15,
     "metadata": {},
     "output_type": "execute_result"
    }
   ],
   "source": [
    "vendor_sales_share_query = \"\"\"\n",
    "WITH TotalSales AS (\n",
    "    SELECT \n",
    "        SUM(bottles_sold) AS Overall_Total_Bottles_Sold\n",
    "    FROM \n",
    "        sales_fact\n",
    "),\n",
    "VendorSales AS (\n",
    "    SELECT \n",
    "        v.vendor_name, \n",
    "        SUM(s.bottles_sold) AS Vendor_Total_Bottles_Sold\n",
    "    FROM \n",
    "        sales_fact s\n",
    "    JOIN \n",
    "        vendor_dim v ON s.vendor_id = v.vendor_id\n",
    "    WHERE \n",
    "        v.snapshot_date IN (SELECT MAX(snapshot_date) FROM vendor_dim)\n",
    "    GROUP BY \n",
    "        v.vendor_name\n",
    ")\n",
    "SELECT \n",
    "    vendor_name, \n",
    "    Vendor_Total_Bottles_Sold, \n",
    "    (Vendor_Total_Bottles_Sold * 100.0 / Overall_Total_Bottles_Sold) AS Sales_Share_Percentage\n",
    "FROM \n",
    "    VendorSales, TotalSales\n",
    "ORDER BY \n",
    "    Sales_Share_Percentage DESC;\n",
    "\"\"\"\n",
    "\n",
    "vendor_sales_share = pd.read_sql(vendor_sales_share_query, engine)\n",
    "\n",
    "vendor_sales_share.head()"
   ]
  },
  {
   "cell_type": "code",
   "execution_count": 16,
   "metadata": {},
   "outputs": [
    {
     "name": "stderr",
     "output_type": "stream",
     "text": [
      "C:\\Users\\thanh\\AppData\\Local\\Temp\\ipykernel_25212\\216669745.py:5: FutureWarning: \n",
      "\n",
      "Passing `palette` without assigning `hue` is deprecated and will be removed in v0.14.0. Assign the `y` variable to `hue` and set `legend=False` for the same effect.\n",
      "\n",
      "  sns.barplot(x='Sales_Share_Percentage', y='vendor_name', data=top_10_vendors, palette='viridis')\n"
     ]
    },
    {
     "data": {
      "image/png": "[encoded data removed]",
      "text/plain": [
       "<Figure size 1200x800 with 1 Axes>"
      ]
     },
     "metadata": {},
     "output_type": "display_data"
    }
   ],
   "source": [
    "# Filter the 10 Vendor with the highest sales percentage\n",
    "top_10_vendors = vendor_sales_share.head(10)\n",
    "\n",
    "plt.figure(figsize=(12, 8))\n",
    "sns.barplot(x='Sales_Share_Percentage', y='vendor_name', data=top_10_vendors, palette='viridis')\n",
    "plt.title('Filter the 10 Vendor with the highest sales percentage')\n",
    "plt.xlabel('Percentage of Sales')\n",
    "plt.ylabel('Vendor')\n",
    "plt.grid(axis='x')\n",
    "plt.tight_layout()\n",
    "plt.show()\n"
   ]
  }
 ],
 "metadata": {
  "kernelspec": {
   "display_name": "Python 3",
   "language": "python",
   "name": "python3"
  },
  "language_info": {
   "codemirror_mode": {
    "name": "ipython",
    "version": 3
   },
   "file_extension": ".py",
   "mimetype": "text/x-python",
   "name": "python",
   "nbconvert_exporter": "python",
   "pygments_lexer": "ipython3",
   "version": "3.11.9"
  }
 },
 "nbformat": 4,
 "nbformat_minor": 2
}
